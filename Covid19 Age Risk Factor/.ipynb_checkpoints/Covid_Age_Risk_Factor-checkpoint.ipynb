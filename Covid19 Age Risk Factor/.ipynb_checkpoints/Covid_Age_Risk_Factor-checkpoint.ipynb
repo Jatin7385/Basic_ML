{
 "cells": [
  {
   "cell_type": "code",
   "execution_count": 7,
   "id": "90fbc0bd",
   "metadata": {},
   "outputs": [],
   "source": [
    "#Import statements\n",
    "import sklearn\n",
    "import pandas as pd\n",
    "import numpy as np\n",
    "import os\n",
    "from sklearn.model_selection import train_test_split\n",
    "from sklearn import linear_model,preprocessing"
   ]
  },
  {
   "cell_type": "code",
   "execution_count": 8,
   "id": "765f4cea",
   "metadata": {},
   "outputs": [
    {
     "data": {
      "text/plain": [
       "Index(['Case', 'Age', 'Sex', 'Nationality', 'Status', 'Transmission'], dtype='object')"
      ]
     },
     "execution_count": 8,
     "metadata": {},
     "output_type": "execute_result"
    }
   ],
   "source": [
    "#Getting the data\n",
    "data = pd.read_csv(\"COVID 19 Cases in the Philippines.csv\")\n",
    "data.describe()\n",
    "data.columns"
   ]
  },
  {
   "cell_type": "code",
   "execution_count": 9,
   "id": "5a433e5b",
   "metadata": {},
   "outputs": [],
   "source": [
    "#DATA PROCESSING\n",
    "le = preprocessing.LabelEncoder()\n",
    "Case = le.fit_transform(list(data[\"Case\"]))\n",
    "Sex = le.fit_transform(list(data[\"Sex\"]))\n",
    "Nationality = le.fit_transform(list(data[\"Nationality\"]))\n",
    "Transmission = le.fit_transform(list(data[\"Transmission\"]))\n",
    "Status = le.fit_transform(list(data[\"Status\"]))\n",
    "y = list(Status)\n",
    "X = list(zip(Case,list(data[\"Age\"]),Sex,Nationality,Transmission))"
   ]
  },
  {
   "cell_type": "code",
   "execution_count": 10,
   "id": "1e740f57",
   "metadata": {},
   "outputs": [],
   "source": [
    "#CREATING VARIOUS CLASSIFICATION MODELS\n",
    "from sklearn.neighbors import KNeighborsClassifier\n",
    "from sklearn import svm\n",
    "from sklearn.tree import DecisionTreeClassifier\n",
    "from sklearn.linear_model import LogisticRegression\n",
    "X_train,X_test,y_train,y_test = train_test_split(X,y,shuffle = True)\n",
    "logisticregression_model = LogisticRegression(random_state = 0)\n",
    "logisticregression_model.fit(X_train,y_train)\n",
    "decisiontree_model = DecisionTreeClassifier(random_state = 0)\n",
    "decisiontree_model.fit(X_train,y_train)\n",
    "svm_model = svm.SVC(kernel=\"linear\", C=2)\n",
    "svm_model.fit(X_train,y_train)\n",
    "knn_model = KNeighborsClassifier(n_neighbors=3)\n",
    "knn_model.fit(X_train,y_train)\n",
    "LogisticRegression_prediction = logisticregression_model.predict(X_test)\n",
    "DecisionTree_prediction = decisiontree_model.predict(X_test)\n",
    "KNN_prediction = knn_model.predict(X_test)\n",
    "svm_prediction = svm_model.predict(X_test)"
   ]
  },
  {
   "cell_type": "code",
   "execution_count": 11,
   "id": "7000ab81",
   "metadata": {},
   "outputs": [
    {
     "name": "stdout",
     "output_type": "stream",
     "text": [
      "Accuracy of the LogisticRegression Model is :  0.75\n",
      "Accuracy of the DecisionTree Model is :  0.6388888888888888\n",
      "Accuracy of the KNN Model is :  0.8055555555555556\n",
      "Accuracy of the SVM Model is :  0.8055555555555556\n"
     ]
    }
   ],
   "source": [
    "#CALCULATING AND DISPLAYING ACCURACY SCORE OF THE MODELS\n",
    "from sklearn import metrics\n",
    "logisticregression_acc =  metrics.accuracy_score(y_test,LogisticRegression_prediction)\n",
    "decisiontree_acc = metrics.accuracy_score(y_test,DecisionTree_prediction)\n",
    "knn_acc = metrics.accuracy_score(y_test,KNN_prediction)\n",
    "svm_acc = metrics.accuracy_score(y_test,svm_prediction)\n",
    "print(\"Accuracy of the LogisticRegression Model is : \", logisticregression_acc)\n",
    "print(\"Accuracy of the DecisionTree Model is : \", decisiontree_acc)\n",
    "print(\"Accuracy of the KNN Model is : \", knn_acc)\n",
    "print(\"Accuracy of the SVM Model is : \", svm_acc)"
   ]
  }
 ],
 "metadata": {
  "kernelspec": {
   "display_name": "Python 3",
   "language": "python",
   "name": "python3"
  },
  "language_info": {
   "codemirror_mode": {
    "name": "ipython",
    "version": 3
   },
   "file_extension": ".py",
   "mimetype": "text/x-python",
   "name": "python",
   "nbconvert_exporter": "python",
   "pygments_lexer": "ipython3",
   "version": "3.8.8"
  }
 },
 "nbformat": 4,
 "nbformat_minor": 5
}
